{
  "cells": [
    {
      "cell_type": "markdown",
      "metadata": {
        "id": "view-in-github",
        "colab_type": "text"
      },
      "source": [
        "<a href=\"https://colab.research.google.com/github/UnaSun2025/MSSP6070/blob/main/Week_2_Data_Stuctures.ipynb\" target=\"_parent\"><img src=\"https://colab.research.google.com/assets/colab-badge.svg\" alt=\"Open In Colab\"/></a>"
      ]
    },
    {
      "cell_type": "markdown",
      "metadata": {
        "id": "IEmRy3vWaVN7"
      },
      "source": [
        "# Python Language Basics, IPython, and Jupyter Notebooks\n",
        "SOURCE MODIFIED FROM: McKinney, W. (2018). Python for data analysis. Ch. 2. O'Rielly Media."
      ]
    },
    {
      "cell_type": "code",
      "execution_count": null,
      "metadata": {
        "id": "f5grKHk3aVN9"
      },
      "outputs": [],
      "source": [
        "import numpy as np\n",
        "np.random.seed(12345)\n",
        "np.set_printoptions(precision=4, suppress=True)"
      ]
    },
    {
      "cell_type": "markdown",
      "metadata": {
        "id": "8ZH3oVSFaVN-"
      },
      "source": [
        "## The Python Interpreter\n",
        "Python is a high-level, interpreted programming language known for its simplicity, readability, and versatility.  Python executes commands one line at a time.\n",
        "\n",
        "DOENLOAD FROM: https://www.python.org/ or https://www.anaconda.com/\n",
        "               \n",
        "Python is a high-level, interpreted programming language known for its simplicity, readability, and versatility. Created by Guido van Rossum and first released in 1991, Python emphasizes code readability and a clean syntax, making it easier to write and understand.\n",
        "\n",
        "Python supports multiple programming paradigms, including procedural, object-oriented, and functional programming. It has a large standard library that provides a wide range of modules and functions for various tasks, allowing developers to accomplish complex tasks with minimal effort.\n",
        "\n",
        "One of Python's key features is its dynamic typing system, which means variables don't have to be explicitly declared, and their types can change during runtime. Python uses indentation for block structures instead of traditional braces, fostering clean and well-structured code."
      ]
    },
    {
      "cell_type": "markdown",
      "metadata": {
        "id": "OEtaMKvKaVN-"
      },
      "source": [
        "```python\n",
        "$ python\n",
        "Python 3.6.0 | packaged by conda-forge | (default, Jan 13 2017, 23:17:12)\n",
        "[GCC 4.8.2 20140120 (Red Hat 4.8.2-15)] on linux\n",
        "Type \"help\", \"copyright\", \"credits\" or \"license\" for more information.\n",
        ">>> a = 5\n",
        ">>> print(a)\n",
        "5\n",
        "```"
      ]
    },
    {
      "cell_type": "markdown",
      "metadata": {
        "id": "akq3uUydaVN-"
      },
      "source": [
        "```python\n",
        "print('Hello world')\n",
        "```"
      ]
    },
    {
      "cell_type": "markdown",
      "metadata": {
        "id": "7GX0kpSOaVN-"
      },
      "source": [
        "```python\n",
        "$ python hello_world.py\n",
        "Hello world\n",
        "```"
      ]
    },
    {
      "cell_type": "markdown",
      "metadata": {
        "id": "cVpSgR7VaVN-"
      },
      "source": [
        "```shell\n",
        "$ ipython\n",
        "Python 3.6.0 | packaged by conda-forge | (default, Jan 13 2017, 23:17:12)\n",
        "Type \"copyright\", \"credits\" or \"license\" for more information.\n",
        "\n",
        "IPython 5.1.0 -- An enhanced Interactive Python.\n",
        "?         -> Introduction and overview of IPython's features.\n",
        "%quickref -> Quick reference.\n",
        "help      -> Python's own help system.\n",
        "object?   -> Details about 'object', use 'object??' for extra details.\n",
        "\n",
        "In [1]: %run hello_world.py\n",
        "Hello world\n",
        "\n",
        "In [2]:\n",
        "```"
      ]
    },
    {
      "cell_type": "markdown",
      "metadata": {
        "id": "AOeKCc30aVN_"
      },
      "source": [
        "## IPython Basics"
      ]
    },
    {
      "cell_type": "markdown",
      "metadata": {
        "id": "7j65OsucaVN_"
      },
      "source": [
        "### Running the IPython Shell"
      ]
    },
    {
      "cell_type": "markdown",
      "metadata": {
        "id": "ULJfcJwmaVN_"
      },
      "source": [
        "$"
      ]
    },
    {
      "cell_type": "code",
      "execution_count": null,
      "metadata": {
        "id": "bZBGUHfTaVN_",
        "outputId": "0b3988e2-17a2-4526-f409-9490d083becd"
      },
      "outputs": [
        {
          "data": {
            "text/plain": [
              "{0: 0.163237556162501,\n",
              " 1: -0.37040882274338893,\n",
              " 2: -0.08088067273179514,\n",
              " 3: -0.9098779171581127,\n",
              " 4: 0.25760185356933984,\n",
              " 5: 0.5749282673553658,\n",
              " 6: -0.8597249109794647}"
            ]
          },
          "execution_count": 1,
          "metadata": {},
          "output_type": "execute_result"
        }
      ],
      "source": [
        "import numpy as np\n",
        "data = {i : np.random.randn() for i in range(7)} #np.random.randn() 从标准正态分布（均值为0，标准差为1）中随机抽取一个值\n",
        "data"
      ]
    },
    {
      "cell_type": "markdown",
      "metadata": {
        "id": "smVcll_iaVN_"
      },
      "source": [
        ">>> from numpy.random import randn\n",
        ">>> data = {i : randn() for i in range(7)}\n",
        ">>> print(data)\n",
        "{0: -1.5948255432744511, 1: 0.10569006472787983, 2: 1.972367135977295,\n",
        "3: 0.15455217573074576, 4: -0.24058577449429575, 5: -1.2904897053651216,\n",
        "6: 0.3308507317325902}"
      ]
    },
    {
      "cell_type": "markdown",
      "metadata": {
        "id": "KPb19PB8aVN_"
      },
      "source": [
        "### Running the Jupyter Notebook"
      ]
    },
    {
      "cell_type": "markdown",
      "metadata": {
        "id": "MBsiEjuuaVOA"
      },
      "source": [
        "```shell\n",
        "$ jupyter notebook\n",
        "[I 15:20:52.739 NotebookApp] Serving notebooks from local directory:\n",
        "/home/wesm/code/pydata-book\n",
        "[I 15:20:52.739 NotebookApp] 0 active kernels\n",
        "[I 15:20:52.739 NotebookApp] The Jupyter Notebook is running at:\n",
        "http://localhost:8888/\n",
        "[I 15:20:52.740 NotebookApp] Use Control-C to stop this server and shut down\n",
        "all kernels (twice to skip confirmation).\n",
        "Created new window in existing browser session.\n",
        "```"
      ]
    },
    {
      "cell_type": "markdown",
      "metadata": {
        "id": "niuxvp9IaVOA"
      },
      "source": [
        "### Tab Completion\n",
        "\n",
        "Tab completion will search the namespace for variables, objects, functions, etc.\n"
      ]
    },
    {
      "cell_type": "markdown",
      "metadata": {
        "id": "neyNm-x-aVOA"
      },
      "source": [
        "```\n",
        "In [1]: an_apple = 27\n",
        "\n",
        "In [2]: an_example = 42\n",
        "\n",
        "In [3]: an<tab>"
      ]
    },
    {
      "cell_type": "markdown",
      "metadata": {
        "id": "gp34rwWtaVOA"
      },
      "source": [
        "```\n",
        "In [3]: b = [1, 2, 3]\n",
        "\n",
        "In [4]: b.<tab>\n",
        "```"
      ]
    },
    {
      "cell_type": "markdown",
      "metadata": {
        "id": "vhInr4D2aVOA"
      },
      "source": [
        "```\n",
        "In [1]: import datetime\n",
        "\n",
        "In [2]: datetime.<tab>\n",
        "```"
      ]
    },
    {
      "cell_type": "markdown",
      "metadata": {
        "id": "9jfEEbN_aVOA"
      },
      "source": [
        "```\n",
        "In [7]: datasets/movielens/<tab>\n",
        "```"
      ]
    },
    {
      "cell_type": "markdown",
      "metadata": {
        "id": "fcHvw3dqaVOA"
      },
      "source": [
        "### Introspection\n",
        "\n",
        "Using the question mark before or after a variable will display some general information"
      ]
    },
    {
      "cell_type": "markdown",
      "metadata": {
        "id": "LYDrGndmaVOA"
      },
      "source": [
        "```\n",
        "In [8]: b = [1, 2, 3]\n",
        "\n",
        "In [9]: b?\n",
        "Type:       list\n",
        "String Form:[1, 2, 3]\n",
        "Length:     3\n",
        "Docstring:\n",
        "list() -> new empty list\n",
        "list(iterable) -> new list initialized from iterable's items\n",
        "\n",
        "In [10]: print?\n",
        "Docstring:\n",
        "print(value, ..., sep=' ', end='\\n', file=sys.stdout, flush=False)\n",
        "\n",
        "Prints the values to a stream, or to sys.stdout by default.\n",
        "Optional keyword arguments:\n",
        "file:  a file-like object (stream); defaults to the current sys.stdout.\n",
        "sep:   string inserted between values, default a space.\n",
        "end:   string appended after the last value, default a newline.\n",
        "flush: whether to forcibly flush the stream.\n",
        "Type:      builtin_function_or_method\n",
        "```"
      ]
    },
    {
      "cell_type": "markdown",
      "metadata": {
        "id": "TKWdLdCNaVOB"
      },
      "source": [
        "```python\n",
        "def add_numbers(a, b):\n",
        "    \"\"\"\n",
        "    Add two numbers together\n",
        "\n",
        "    Returns\n",
        "    -------\n",
        "    the_sum : type of arguments\n",
        "    \"\"\"\n",
        "    return a + b\n",
        "```"
      ]
    },
    {
      "cell_type": "markdown",
      "metadata": {
        "id": "f83D6zBzaVOB"
      },
      "source": [
        "```python\n",
        "In [11]: add_numbers?\n",
        "Signature: add_numbers(a, b)\n",
        "Docstring:\n",
        "Add two numbers together\n",
        "\n",
        "Returns\n",
        "-------\n",
        "the_sum : type of arguments\n",
        "File:      <ipython-input-9-6a548a216e27>\n",
        "Type:      function\n",
        "```"
      ]
    },
    {
      "cell_type": "markdown",
      "metadata": {
        "id": "hGQqGO0JaVOB"
      },
      "source": [
        "```python\n",
        "In [12]: add_numbers??\n",
        "Signature: add_numbers(a, b)\n",
        "Source:\n",
        "def add_numbers(a, b):\n",
        "    \"\"\"\n",
        "    Add two numbers together\n",
        "\n",
        "    Returns\n",
        "    -------\n",
        "    the_sum : type of arguments\n",
        "    \"\"\"\n",
        "    return a + b\n",
        "File:      <ipython-input-9-6a548a216e27>\n",
        "Type:      function\n",
        "```"
      ]
    },
    {
      "cell_type": "markdown",
      "metadata": {
        "id": "8on5MbgmaVOB"
      },
      "source": [
        "```python\n",
        "In [13]: np.*load*?\n",
        "np.__loader__\n",
        "np.load\n",
        "np.loads\n",
        "np.loadtxt\n",
        "np.pkgload\n",
        "```"
      ]
    },
    {
      "cell_type": "markdown",
      "metadata": {
        "id": "5xQ2L-sIaVOB"
      },
      "source": [
        "### The %run Command\n",
        "%run \"C:\\Users\\RichardHartwell\\OneDrive - BC3 Analytics\\Documents\\Penn Courses\\MSSP 607 Practical Programming for Data Science\\Week_2\\MyCar.py\"\n",
        "Hello, Rich! What kind of car are you driving?\n",
        "I am driving a Honda Civic.\n",
        "\n",
        "----All the variables (imports, functions, and global) defined in the file until an exception is raised are available to the iPython shell."
      ]
    },
    {
      "cell_type": "markdown",
      "metadata": {
        "id": "BlKQRfhZaVOB"
      },
      "source": [
        "```python\n",
        "def f(x, y, z):\n",
        "    return (x + y) / z\n",
        "\n",
        "a = 5\n",
        "b = 6\n",
        "c = 7.5\n",
        "\n",
        "result = f(a, b, c)\n",
        "```"
      ]
    },
    {
      "cell_type": "markdown",
      "metadata": {
        "id": "EzqNJwEpaVOB"
      },
      "source": [
        "```python\n",
        "In [14]: %run ipython_script_test.py\n",
        "```"
      ]
    },
    {
      "cell_type": "markdown",
      "metadata": {
        "id": "na7D-4npaVOB"
      },
      "source": [
        "```python\n",
        "In [15]: c\n",
        "Out [15]: 7.5\n",
        "\n",
        "In [16]: result\n",
        "Out[16]: 1.4666666666666666\n",
        "```"
      ]
    },
    {
      "cell_type": "markdown",
      "metadata": {
        "id": "jAfWBuhMaVOC"
      },
      "source": [
        "```python\n",
        ">>> %load ipython_script_test.py\n",
        "\n",
        "    def f(x, y, z):\n",
        "        return (x + y) / z\n",
        "\n",
        "    a = 5\n",
        "    b = 6\n",
        "    c = 7.5\n",
        "\n",
        "    result = f(a, b, c)\n",
        "```"
      ]
    },
    {
      "cell_type": "markdown",
      "metadata": {
        "id": "TrWcLS69aVOC"
      },
      "source": [
        "#### Interrupting running code"
      ]
    },
    {
      "cell_type": "markdown",
      "metadata": {
        "id": "KBYvFEyhaVOC"
      },
      "source": [
        "### Executing Code from the Clipboard"
      ]
    },
    {
      "cell_type": "markdown",
      "metadata": {
        "id": "u3tuINFRaVOC"
      },
      "source": [
        "```python\n",
        "x = 5\n",
        "y = 7\n",
        "if x > 5:\n",
        "    x += 1\n",
        "\n",
        "    y = 8\n",
        "```"
      ]
    },
    {
      "cell_type": "markdown",
      "metadata": {
        "id": "pl7jM4h1aVOC"
      },
      "source": [
        "```python\n",
        "In [17]: %paste\n",
        "x = 5\n",
        "y = 7\n",
        "if x > 5:\n",
        "    x += 1\n",
        "\n",
        "    y = 8\n",
        "## -- End pasted text --\n",
        "```"
      ]
    },
    {
      "cell_type": "markdown",
      "metadata": {
        "id": "aHSf5HKXaVOC"
      },
      "source": [
        "```python\n",
        "In [18]: %cpaste\n",
        "Pasting code; enter '--' alone on the line to stop or use Ctrl-D.\n",
        ":x = 5\n",
        ":y = 7\n",
        ":if x > 5:\n",
        ":    x += 1\n",
        ":\n",
        ":    y = 8\n",
        ":--\n",
        "```"
      ]
    },
    {
      "cell_type": "markdown",
      "metadata": {
        "id": "RmEQ-IklaVOC"
      },
      "source": [
        "### Terminal Keyboard Shortcuts"
      ]
    },
    {
      "cell_type": "markdown",
      "metadata": {
        "id": "_xWc8WbaaVOC"
      },
      "source": [
        "### About Magic Commands\n",
        "\n",
        "In Python, \"magic commands\" are special commands provided by IPython, an interactive shell for Python. These commands are preceded by a percent sign (%) or double percent signs (%%) and are used to perform various tasks, such as executing shell commands, timing code execution, debugging, profiling, and more. Magic commands enhance the functionality and convenience of working with Python in an interactive environment.\n",
        "\n",
        "Jupyter QtConsole 5.4.2\n",
        "Python 3.9.16 (main, Mar  8 2023, 10:39:24) [MSC v.1916 64 bit (AMD64)]\n",
        "Type 'copyright', 'credits' or 'license' for more information\n",
        "IPython 8.12.0 -- An enhanced Interactive Python. Type '?' for help.\n",
        "\n",
        "%lsmagic\n",
        "Out[1]:\n",
        "Available line magics:\n",
        "%alias  %alias_magic  %autoawait  %autocall  %automagic  %autosave  %bookmark  %cd  %clear  %cls  %colors  %conda  %config  %connect_info  %copy  %ddir  %debug  %dhist  %dirs  %doctest_mode  %echo  %ed  %edit  %env  %gui  %hist  %history  %killbgscripts  %ldir  %less  %load  %load_ext  %loadpy  %logoff  %logon  %logstart  %logstate  %logstop  %ls  %lsmagic  %macro  %magic  %matplotlib  %mkdir  %more  %notebook  %page  %pastebin  %pdb  %pdef  %pdoc  %pfile  %pinfo  %pinfo2  %pip  %popd  %pprint  %precision  %prun  %psearch  %psource  %pushd  %pwd  %pycat  %pylab  %qtconsole  %quickref  %recall  %rehashx  %reload_ext  %ren  %rep  %rerun  %reset  %reset_selective  %rmdir  %run  %save  %sc  %set_env  %store  %sx  %system  %tb  %time  %timeit  %unalias  %unload_ext  %who  %who_ls  %whos  %xdel  %xmode\n",
        "\n",
        "Available cell magics:\n",
        "%%!  %%HTML  %%SVG  %%bash  %%capture  %%cmd  %%debug  %%file  %%html  %%javascript  %%js  %%latex  %%markdown  %%perl  %%prun  %%pypy  %%python  %%python2  %%python3  %%ruby  %%script  %%sh  %%svg  %%sx  %%system  %%time  %%timeit  %%writefile\n",
        "\n",
        "Automagic is ON, % prefix IS NOT needed for line magics.\n",
        "\n",
        "SEE: https://ipython.readthedocs.io/en/stable/interactive/magics.html"
      ]
    },
    {
      "cell_type": "markdown",
      "metadata": {
        "id": "RVDOf9iXaVOC"
      },
      "source": [
        "```python\n",
        "In [20]: a = np.random.randn(100, 100)\n",
        "\n",
        "In [20]: %timeit np.dot(a, a)\n",
        "10000 loops, best of 3: 20.9 µs per loop\n",
        "```"
      ]
    },
    {
      "cell_type": "markdown",
      "metadata": {
        "id": "LkJ9Vl_zaVOC"
      },
      "source": [
        "```python\n",
        "In [21]: %debug?\n",
        "Docstring:\n",
        "::\n",
        "\n",
        "  %debug [--breakpoint FILE:LINE] [statement [statement ...]]\n",
        "\n",
        "Activate the interactive debugger.\n",
        "\n",
        "This magic command support two ways of activating debugger.\n",
        "One is to activate debugger before executing code.  This way, you\n",
        "can set a break point, to step through the code from the point.\n",
        "You can use this mode by giving statements to execute and optionally\n",
        "a breakpoint.\n",
        "\n",
        "The other one is to activate debugger in post-mortem mode.  You can\n",
        "activate this mode simply running %debug without any argument.\n",
        "If an exception has just occurred, this lets you inspect its stack\n",
        "frames interactively.  Note that this will always work only on the last\n",
        "traceback that occurred, so you must call this quickly after an\n",
        "exception that you wish to inspect has fired, because if another one\n",
        "occurs, it clobbers the previous one.\n",
        "\n",
        "If you want IPython to automatically do this on every exception, see\n",
        "the %pdb magic for more details.\n",
        "\n",
        "positional arguments:\n",
        "  statement             Code to run in debugger. You can omit this in cell\n",
        "                        magic mode.\n",
        "\n",
        "optional arguments:\n",
        "  --breakpoint <FILE:LINE>, -b <FILE:LINE>\n",
        "                        Set break point at LINE in FILE.\n",
        "\n",
        "```                        \n",
        "\n",
        "You can find more details about the available commands and their usage in the IPython documentation or by typing h or help within the debugger prompt.\n",
        "\n",
        "Note that the %debug command is specific to IPython and may not work in other Python environments or standard Python shells.\n",
        "\n",
        "SEE: https://ipython.readthedocs.io/en/stable/interactive/magics.html#magic-debug\n"
      ]
    },
    {
      "cell_type": "markdown",
      "metadata": {
        "id": "TeJQ-VQ0aVOJ"
      },
      "source": [
        "```python\n",
        "In [22]: %pwd\n",
        "Out[22]: '/home/wesm/code/pydata-book\n",
        "\n",
        "In [23]: foo = %pwd\n",
        "\n",
        "In [24]: foo\n",
        "Out[24]: '/home/wesm/code/pydata-book'\n",
        "```"
      ]
    },
    {
      "cell_type": "markdown",
      "metadata": {
        "id": "km6dyASYaVOJ"
      },
      "source": [
        "### Matplotlib Integration"
      ]
    },
    {
      "cell_type": "markdown",
      "metadata": {
        "id": "xaTqyxSNaVOJ"
      },
      "source": [
        "```python\n",
        "In [26]: %matplotlib\n",
        "Using matplotlib backend: Qt4Agg\n",
        "```"
      ]
    },
    {
      "cell_type": "markdown",
      "metadata": {
        "id": "dMyPGZKRaVOJ"
      },
      "source": [
        "```python\n",
        "In [26]: %matplotlib inline\n",
        "```"
      ]
    },
    {
      "cell_type": "markdown",
      "metadata": {
        "id": "UZ6ADqQjaVOJ"
      },
      "source": [
        "## Python Language Basics"
      ]
    },
    {
      "cell_type": "markdown",
      "metadata": {
        "id": "-DT8EiiAaVOJ"
      },
      "source": [
        "### Language Semantics\n",
        "\n",
        "Python is a dynamically-typed programming language known for its clear and expressive syntax. The language semantics of Python emphasize readability and simplicity, making it a popular choice among data scientists and programmers alike. Python utilizes whitespace indentation to define code blocks, eliminating the need for explicit braces or keywords. This indentation-based structure encourages code consistency and readability. Python also supports object-oriented programming (OOP) principles, allowing users to define classes, create objects, and utilize inheritance and polymorphism. The language's dynamic typing enables flexibility by allowing variables to be assigned values of different types without explicit type declarations. Additionally, Python's extensive standard library and rich ecosystem of third-party packages provide a wide range of tools for data manipulation, scientific computing, machine learning, and more. Overall, Python's language semantics foster a clean and intuitive programming experience, empowering data scientists to focus on their analysis and modeling tasks.\n",
        "\n"
      ]
    },
    {
      "cell_type": "markdown",
      "metadata": {
        "id": "gQ5SMPnzaVOJ"
      },
      "source": [
        "#### Indentation, not braces\n",
        "\n",
        "Python is a programming language renowned for its distinctive feature of indentation. Indentation refers to the consistent use of whitespace at the beginning of lines to define the structure and hierarchy of code blocks. In Python, indentation is not just a matter of style; it is a fundamental aspect of the language's syntax. Unlike many other programming languages that use braces or keywords to delineate code blocks, Python relies solely on indentation. Indentation serves as a visual cue to indicate the start and end of loops, conditionals, functions, and other control structures. By enforcing consistent indentation, Python promotes clean and readable code, enhancing code maintainability and reducing ambiguity. However, it also demands careful attention to indentation levels, as even a small deviation can lead to syntax errors. Python's emphasis on indentation encourages developers to write more organized and visually appealing code, reinforcing the principle of code readability that lies at the core of the language's design philosophy."
      ]
    },
    {
      "cell_type": "markdown",
      "metadata": {
        "id": "Q_nhyAhxaVOJ"
      },
      "source": [
        "```python\n",
        "for x in array:\n",
        "    if x < pivot:\n",
        "        less.append(x)\n",
        "    else:\n",
        "        greater.append(x)\n",
        "```"
      ]
    },
    {
      "cell_type": "markdown",
      "metadata": {
        "id": "L2BgaBadaVOJ"
      },
      "source": [
        "```python\n",
        "a = 5; b = 6; c = 7\n",
        "```"
      ]
    },
    {
      "cell_type": "markdown",
      "metadata": {
        "id": "MY-MQb9EaVOJ"
      },
      "source": [
        "#### Everything is an object\n",
        "\n",
        "Python language objects are fundamental entities that represent and store data. These objects include numbers, strings, lists, dictionaries, tuples, sets, and more. Each object has its unique characteristics and methods, enabling us to perform specific operations and manipulate data effectively."
      ]
    },
    {
      "cell_type": "markdown",
      "metadata": {
        "id": "FNlJmTlyaVOJ"
      },
      "source": [
        "#### Comments"
      ]
    },
    {
      "cell_type": "markdown",
      "metadata": {
        "id": "-Bvi8ffNaVOJ"
      },
      "source": [
        "```python\n",
        "results = []\n",
        "for line in file_handle:\n",
        "    # keep the empty lines for now\n",
        "    # if len(line) == 0:\n",
        "    #   continue\n",
        "    results.append(line.replace('foo', 'bar'))\n",
        "```"
      ]
    },
    {
      "cell_type": "markdown",
      "metadata": {
        "id": "_UChvTaBaVOJ"
      },
      "source": [
        "```python\n",
        "print(\"Reached this line\")  # Simple status report\n",
        "```"
      ]
    },
    {
      "cell_type": "markdown",
      "metadata": {
        "id": "qmhvZ5sVaVOJ"
      },
      "source": [
        "#### Function and object method calls"
      ]
    },
    {
      "cell_type": "markdown",
      "metadata": {
        "id": "6dkD9PUWaVOJ"
      },
      "source": [
        "```\n",
        "result = f(x, y, z)\n",
        "g()\n",
        "```"
      ]
    },
    {
      "cell_type": "markdown",
      "metadata": {
        "id": "9BLOs8TLaVOK"
      },
      "source": [
        "```\n",
        "obj.some_method(x, y, z)\n",
        "```"
      ]
    },
    {
      "cell_type": "markdown",
      "metadata": {
        "id": "1c02FMNVaVOK"
      },
      "source": [
        "```python\n",
        "result = f(a, b, c, d=5, e='foo')\n",
        "```"
      ]
    },
    {
      "cell_type": "markdown",
      "metadata": {
        "id": "ybORKvNUaVOK"
      },
      "source": [
        "#### Variables and argument passing\n",
        "\n",
        "In Python, variables serve as containers for storing data values. They are dynamically typed, meaning you don't need to declare the type of a variable explicitly. When you assign a value to a variable, Python automatically determines its type based on the value itself. This flexibility allows for easier and more concise coding. Variables in Python are also mutable, which means their values can be modified.\n",
        "\n",
        "In addition to variables, Python provides a powerful and flexible mechanism for passing arguments to functions and methods. Arguments can be passed by value or by reference, depending on the data type and how they are used within the function. By default, Python uses a call-by-object reference model, which means that when you pass an argument to a function, a reference to the object is passed, rather than a copy of the object itself. This allows functions to access and modify the original object, which can be useful for efficiency and convenience.\n",
        "\n",
        "When passing immutable objects like integers, strings, or tuples, the function receives a copy of the reference to the object. Therefore, modifications made to the parameter within the function don't affect the original object. However, when passing mutable objects like lists or dictionaries, changes made to the object within the function will be reflected in the original object since they both refer to the same memory location.\n",
        "\n",
        "Python also supports passing arguments using keyword arguments, allowing you to specify arguments by name rather than their position. This feature enhances code readability and allows for more flexible function calls, especially when dealing with functions that have many parameters.\n",
        "\n",
        "Overall, Python's approach to variables and argument passing provides programmers with flexibility and ease of use. By understanding how variables work and how arguments are passed, data scientists can effectively manipulate data and build complex algorithms while maintaining code readability and efficiency."
      ]
    },
    {
      "cell_type": "code",
      "execution_count": null,
      "metadata": {
        "id": "D4RuUa2PaVOK"
      },
      "outputs": [],
      "source": [
        "a = [1, 2, 3]"
      ]
    },
    {
      "cell_type": "code",
      "execution_count": null,
      "metadata": {
        "id": "ibq9yhLdaVOK"
      },
      "outputs": [],
      "source": [
        "b = a"
      ]
    },
    {
      "cell_type": "code",
      "execution_count": null,
      "metadata": {
        "id": "-xUthAAlaVOK"
      },
      "outputs": [],
      "source": [
        "a.append(4)\n",
        "b"
      ]
    },
    {
      "cell_type": "markdown",
      "metadata": {
        "id": "ImRhWCVFaVOK"
      },
      "source": [
        "```python\n",
        "def append_element(some_list, element):\n",
        "    some_list.append(element)\n",
        "```"
      ]
    },
    {
      "cell_type": "markdown",
      "metadata": {
        "id": "pJjlMn_laVOK"
      },
      "source": [
        "```python\n",
        "In [27]: data = [1, 2, 3]\n",
        "\n",
        "In [28]: append_element(data, 4)\n",
        "\n",
        "In [29]: data\n",
        "Out[29]: [1, 2, 3, 4]\n",
        "```"
      ]
    },
    {
      "cell_type": "markdown",
      "metadata": {
        "id": "JM4lvk_NaVOK"
      },
      "source": [
        "#### Dynamic references, strong types\n",
        "\n",
        "\n",
        "Python is a dynamically-typed language that utilizes dynamic references, which greatly contributes to its flexibility and ease of use. In Python, variables are not explicitly assigned a specific data type, allowing them to be dynamically bound to different types of objects throughout the program's execution."
      ]
    },
    {
      "cell_type": "code",
      "execution_count": null,
      "metadata": {
        "id": "iYQgoybFaVOK"
      },
      "outputs": [],
      "source": [
        "a = 5\n",
        "type(a)\n",
        "a = 'foo'\n",
        "type(a)"
      ]
    },
    {
      "cell_type": "code",
      "execution_count": null,
      "metadata": {
        "id": "W0IN16aCaVOK"
      },
      "outputs": [],
      "source": [
        "'5' + 5"
      ]
    },
    {
      "cell_type": "code",
      "execution_count": null,
      "metadata": {
        "id": "Qsx5EAstaVOK"
      },
      "outputs": [],
      "source": [
        "a = 4.5\n",
        "b = 2\n",
        "# String formatting, to be visited later\n",
        "print('a is {0}, b is {1}'.format(type(a), type(b)))\n",
        "a / b"
      ]
    },
    {
      "cell_type": "code",
      "execution_count": null,
      "metadata": {
        "id": "I12dB26VaVOK"
      },
      "outputs": [],
      "source": [
        "a = 5\n",
        "isinstance(a, int)"
      ]
    },
    {
      "cell_type": "code",
      "execution_count": null,
      "metadata": {
        "id": "6kepU8MDaVOK"
      },
      "outputs": [],
      "source": [
        "a = 5; b = 4.5\n",
        "isinstance(a, (int, float))\n",
        "isinstance(b, (int, float))"
      ]
    },
    {
      "cell_type": "markdown",
      "metadata": {
        "id": "i4GbvTqOaVOL"
      },
      "source": [
        "#### Attributes and methods"
      ]
    },
    {
      "cell_type": "markdown",
      "metadata": {
        "id": "npo6eEtPaVOL"
      },
      "source": [
        "```python\n",
        "In [1]: a = 'foo'\n",
        "\n",
        "In [2]: a.<Press Tab> #调用所有的function\n",
        "a.capitalize  a.format      a.isupper     a.rindex      a.strip\n",
        "a.center      a.index       a.join        a.rjust       a.swapcase\n",
        "a.count       a.isalnum     a.ljust       a.rpartition  a.title\n",
        "a.decode      a.isalpha     a.lower       a.rsplit      a.translate\n",
        "a.encode      a.isdigit     a.lstrip      a.rstrip      a.upper\n",
        "a.endswith    a.islower     a.partition   a.split       a.zfill\n",
        "a.expandtabs  a.isspace     a.replace     a.splitlines\n",
        "a.find        a.istitle     a.rfind       a.startswith\n",
        "```"
      ]
    },
    {
      "cell_type": "code",
      "execution_count": null,
      "metadata": {
        "id": "-pQNJBvyaVOL"
      },
      "outputs": [],
      "source": [
        "a = 'foo'"
      ]
    },
    {
      "cell_type": "code",
      "execution_count": null,
      "metadata": {
        "id": "pkta-aPAaVOL",
        "outputId": "bc861421-2e7f-4112-8c06-cf028246d321"
      },
      "outputs": [
        {
          "data": {
            "text/plain": [
              "<function str.split(sep=None, maxsplit=-1)>"
            ]
          },
          "execution_count": 2,
          "metadata": {},
          "output_type": "execute_result"
        }
      ],
      "source": [
        "getattr(a, 'split')"
      ]
    },
    {
      "cell_type": "markdown",
      "metadata": {
        "id": "6rHLG8pWaVOL"
      },
      "source": [
        "#### Duck typing\n",
        "\n",
        "Duck typing is a fundamental principle in Python that focuses on an object's behavior rather than its type. According to this concept, if an object walks like a duck and quacks like a duck, then it is considered a duck. In other words, Python allows objects to be treated as a specific type based on their capabilities and methods, rather than relying on explicit type declarations"
      ]
    },
    {
      "cell_type": "code",
      "execution_count": null,
      "metadata": {
        "id": "SDEMdDdbaVOL"
      },
      "outputs": [],
      "source": [
        "def isiterable(obj):\n",
        "    try:\n",
        "        iter(obj)\n",
        "        return True\n",
        "    except TypeError: # not iterable\n",
        "        return False"
      ]
    },
    {
      "cell_type": "code",
      "execution_count": null,
      "metadata": {
        "id": "MhOjlcSoaVOL"
      },
      "outputs": [],
      "source": [
        "isiterable('a string')\n",
        "isiterable([1, 2, 3])\n",
        "isiterable(5)"
      ]
    },
    {
      "cell_type": "markdown",
      "metadata": {
        "id": "RZB8WgvUaVOL"
      },
      "source": [
        "if not isinstance(x, list) and isiterable(x):\n",
        "    x = list(x)"
      ]
    },
    {
      "cell_type": "markdown",
      "metadata": {
        "id": "CSmV1xKlaVOL"
      },
      "source": [
        "#### Imports"
      ]
    },
    {
      "cell_type": "markdown",
      "metadata": {
        "id": "AmeBfhK9aVOL"
      },
      "source": [
        "```python\n",
        "# some_module.py\n",
        "PI = 3.14159\n",
        "\n",
        "def f(x):\n",
        "    return x + 2\n",
        "\n",
        "def g(a, b):\n",
        "    return a + b\n",
        "```"
      ]
    },
    {
      "cell_type": "markdown",
      "metadata": {
        "id": "19Qoab4haVOL"
      },
      "source": [
        "import some_module\n",
        "result = some_module.f(5)\n",
        "pi = some_module.PI"
      ]
    },
    {
      "cell_type": "markdown",
      "metadata": {
        "id": "WAcwOQqYaVOL"
      },
      "source": [
        "from some_module import f, g, PI\n",
        "result = g(5, PI)"
      ]
    },
    {
      "cell_type": "markdown",
      "metadata": {
        "id": "0sCe-gN1aVOL"
      },
      "source": [
        "import some_module as sm\n",
        "from some_module import PI as pi, g as gf\n",
        "\n",
        "r1 = sm.f(pi)\n",
        "r2 = gf(6, pi)"
      ]
    },
    {
      "cell_type": "markdown",
      "metadata": {
        "id": "GicQLlruaVOM"
      },
      "source": [
        "#### Binary operators and comparisons"
      ]
    },
    {
      "cell_type": "code",
      "execution_count": null,
      "metadata": {
        "id": "GgQQmpXkaVOM"
      },
      "outputs": [],
      "source": [
        "5 - 7\n",
        "12 + 21.5\n",
        "5 <= 2"
      ]
    },
    {
      "cell_type": "code",
      "execution_count": null,
      "metadata": {
        "id": "kKAOCQicaVOM"
      },
      "outputs": [],
      "source": [
        "a = [1, 2, 3]\n",
        "b = a\n",
        "c = list(a)\n",
        "a is b\n",
        "a is not c"
      ]
    },
    {
      "cell_type": "code",
      "execution_count": null,
      "metadata": {
        "id": "LTxaRTrNaVOM"
      },
      "outputs": [],
      "source": [
        "a == c"
      ]
    },
    {
      "cell_type": "code",
      "execution_count": null,
      "metadata": {
        "id": "0DMvYt4EaVOM"
      },
      "outputs": [],
      "source": [
        "a = None\n",
        "a is None"
      ]
    },
    {
      "cell_type": "markdown",
      "metadata": {
        "id": "XcBes-JpaVOM"
      },
      "source": [
        "#### Mutable and immutable objects\n",
        "\n",
        "In Python, objects can be classified as either mutable or immutable. Mutable objects are those that can be modified after they are created, while immutable objects cannot be changed once they are created. The distinction between mutable and immutable objects is important because it affects how variables and data structures behave in terms of assignment, modification, and memory management. Immutable objects, such as numbers, strings, and tuples, are created with a fixed value, and any attempt to modify them will result in the creation of a new object. This behavior ensures data integrity and allows for safe sharing of objects among different parts of a program. On the other hand, mutable objects, such as lists, dictionaries, and sets, can be modified by adding, removing, or changing their elements. This mutability provides flexibility but requires careful consideration when sharing objects to avoid unintended side effects. Understanding the concept of mutable and immutable objects is crucial in Python programming as it influences the design and efficiency of data manipulation operations."
      ]
    },
    {
      "cell_type": "code",
      "execution_count": null,
      "metadata": {
        "id": "j5n5P_E1aVOM"
      },
      "outputs": [],
      "source": [
        "a_list = ['foo', 2, [4, 5]]\n",
        "a_list[2] = (3, 4)\n",
        "a_list"
      ]
    },
    {
      "cell_type": "code",
      "execution_count": 1,
      "metadata": {
        "id": "sQCXFzZCaVOM",
        "outputId": "75bff977-f94e-4a6f-dec3-487640a350bf",
        "colab": {
          "base_uri": "https://localhost:8080/",
          "height": 162
        }
      },
      "outputs": [
        {
          "output_type": "error",
          "ename": "TypeError",
          "evalue": "'tuple' object does not support item assignment",
          "traceback": [
            "\u001b[0;31m---------------------------------------------------------------------------\u001b[0m",
            "\u001b[0;31mTypeError\u001b[0m                                 Traceback (most recent call last)",
            "\u001b[0;32m/tmp/ipython-input-20515229.py\u001b[0m in \u001b[0;36m<cell line: 0>\u001b[0;34m()\u001b[0m\n\u001b[1;32m      1\u001b[0m \u001b[0ma_tuple\u001b[0m \u001b[0;34m=\u001b[0m \u001b[0;34m(\u001b[0m\u001b[0;36m3\u001b[0m\u001b[0;34m,\u001b[0m \u001b[0;36m5\u001b[0m\u001b[0;34m,\u001b[0m \u001b[0;34m(\u001b[0m\u001b[0;36m4\u001b[0m\u001b[0;34m,\u001b[0m \u001b[0;36m5\u001b[0m\u001b[0;34m)\u001b[0m\u001b[0;34m)\u001b[0m\u001b[0;34m\u001b[0m\u001b[0;34m\u001b[0m\u001b[0m\n\u001b[0;32m----> 2\u001b[0;31m \u001b[0ma_tuple\u001b[0m\u001b[0;34m[\u001b[0m\u001b[0;36m1\u001b[0m\u001b[0;34m]\u001b[0m \u001b[0;34m=\u001b[0m \u001b[0;34m'four'\u001b[0m\u001b[0;34m\u001b[0m\u001b[0;34m\u001b[0m\u001b[0m\n\u001b[0m",
            "\u001b[0;31mTypeError\u001b[0m: 'tuple' object does not support item assignment"
          ]
        }
      ],
      "source": [
        "a_tuple = (3, 5, (4, 5))\n",
        "a_tuple[1] = 'four'"
      ]
    },
    {
      "cell_type": "markdown",
      "metadata": {
        "id": "G99axIeeaVOM"
      },
      "source": [
        "### Scalar Types"
      ]
    },
    {
      "cell_type": "markdown",
      "metadata": {
        "id": "eMJ1XFG1aVOM"
      },
      "source": [
        "#### Numeric types"
      ]
    },
    {
      "cell_type": "code",
      "execution_count": null,
      "metadata": {
        "id": "IQ2zaiWCaVOM"
      },
      "outputs": [],
      "source": [
        "ival = 17239871\n",
        "ival ** 6"
      ]
    },
    {
      "cell_type": "code",
      "execution_count": null,
      "metadata": {
        "id": "Ss9mSrDBaVOM"
      },
      "outputs": [],
      "source": [
        "fval = 7.243\n",
        "fval2 = 6.78e-5"
      ]
    },
    {
      "cell_type": "code",
      "execution_count": null,
      "metadata": {
        "id": "4JJOIGj8aVOM"
      },
      "outputs": [],
      "source": [
        "3 / 2"
      ]
    },
    {
      "cell_type": "code",
      "execution_count": null,
      "metadata": {
        "id": "UDfdDSFdaVOM"
      },
      "outputs": [],
      "source": [
        "3 // 2"
      ]
    },
    {
      "cell_type": "markdown",
      "metadata": {
        "id": "R8Ugo0CVaVOM"
      },
      "source": [
        "#### Strings"
      ]
    },
    {
      "cell_type": "markdown",
      "metadata": {
        "id": "-TEC6pFcaVOM"
      },
      "source": [
        "a = 'one way of writing a string'\n",
        "b = \"another way\""
      ]
    },
    {
      "cell_type": "code",
      "execution_count": null,
      "metadata": {
        "id": "NKMPPHY7aVOM"
      },
      "outputs": [],
      "source": [
        "c = \"\"\"\n",
        "This is a longer string that\n",
        "spans multiple lines\n",
        "\"\"\""
      ]
    },
    {
      "cell_type": "code",
      "execution_count": null,
      "metadata": {
        "id": "q2BH997AaVON"
      },
      "outputs": [],
      "source": [
        "c.count('\\n')"
      ]
    },
    {
      "cell_type": "code",
      "execution_count": null,
      "metadata": {
        "id": "PSF294UgaVON"
      },
      "outputs": [],
      "source": [
        "a = 'this is a string'\n",
        "a[10] = 'f'\n",
        "b = a.replace('string', 'longer string')\n",
        "b"
      ]
    },
    {
      "cell_type": "code",
      "execution_count": null,
      "metadata": {
        "id": "DusyE6YNaVON"
      },
      "outputs": [],
      "source": [
        "a"
      ]
    },
    {
      "cell_type": "code",
      "execution_count": null,
      "metadata": {
        "id": "85I3pBO5aVON"
      },
      "outputs": [],
      "source": [
        "a = 5.6\n",
        "s = str(a)\n",
        "print(s)"
      ]
    },
    {
      "cell_type": "code",
      "execution_count": null,
      "metadata": {
        "id": "Ds2yIM9caVON"
      },
      "outputs": [],
      "source": [
        "s = 'python'\n",
        "list(s)\n",
        "s[:3]"
      ]
    },
    {
      "cell_type": "code",
      "execution_count": null,
      "metadata": {
        "id": "Z8DLVpZ7aVON"
      },
      "outputs": [],
      "source": [
        "s = '12\\\\34'\n",
        "print(s)"
      ]
    },
    {
      "cell_type": "code",
      "execution_count": null,
      "metadata": {
        "id": "srsloohVaVON"
      },
      "outputs": [],
      "source": [
        "s = r'this\\has\\no\\special\\characters'\n",
        "s"
      ]
    },
    {
      "cell_type": "code",
      "execution_count": null,
      "metadata": {
        "id": "iL6-wg-9aVON"
      },
      "outputs": [],
      "source": [
        "a = 'this is the first half '\n",
        "b = 'and this is the second half'\n",
        "a + b"
      ]
    },
    {
      "cell_type": "code",
      "execution_count": null,
      "metadata": {
        "id": "5eKIlLzxaVON"
      },
      "outputs": [],
      "source": [
        "template = '{0:.2f} {1:s} are worth US${2:d}'"
      ]
    },
    {
      "cell_type": "code",
      "execution_count": null,
      "metadata": {
        "id": "BiBq3o4SaVON"
      },
      "outputs": [],
      "source": [
        "template.format(4.5560, 'Argentine Pesos', 1)"
      ]
    },
    {
      "cell_type": "markdown",
      "metadata": {
        "id": "x7OM4GfKaVON"
      },
      "source": [
        "#### Bytes and Unicode"
      ]
    },
    {
      "cell_type": "code",
      "execution_count": null,
      "metadata": {
        "id": "w0_rXGJKaVON"
      },
      "outputs": [],
      "source": [
        "val = \"español\"\n",
        "val"
      ]
    },
    {
      "cell_type": "code",
      "execution_count": null,
      "metadata": {
        "id": "3029XzbKaVON"
      },
      "outputs": [],
      "source": [
        "val_utf8 = val.encode('utf-8')\n",
        "val_utf8\n",
        "type(val_utf8)"
      ]
    },
    {
      "cell_type": "code",
      "execution_count": null,
      "metadata": {
        "id": "PYePaOeGaVON"
      },
      "outputs": [],
      "source": [
        "val_utf8.decode('utf-8')"
      ]
    },
    {
      "cell_type": "code",
      "execution_count": null,
      "metadata": {
        "id": "Na5aBmt_aVON"
      },
      "outputs": [],
      "source": [
        "val.encode('latin1')\n",
        "val.encode('utf-16')\n",
        "val.encode('utf-16le')"
      ]
    },
    {
      "cell_type": "code",
      "execution_count": null,
      "metadata": {
        "id": "42XxCOWRaVON"
      },
      "outputs": [],
      "source": [
        "bytes_val = b'this is bytes'\n",
        "bytes_val\n",
        "decoded = bytes_val.decode('utf8')\n",
        "decoded  # this is str (Unicode) now"
      ]
    },
    {
      "cell_type": "markdown",
      "metadata": {
        "id": "uqqqdLWDaVON"
      },
      "source": [
        "#### Booleans"
      ]
    },
    {
      "cell_type": "code",
      "execution_count": null,
      "metadata": {
        "id": "RFjpkyepaVOO"
      },
      "outputs": [],
      "source": [
        "True and True\n",
        "False or True"
      ]
    },
    {
      "cell_type": "markdown",
      "metadata": {
        "id": "0-sMgdCwaVOO"
      },
      "source": [
        "#### Type casting"
      ]
    },
    {
      "cell_type": "code",
      "execution_count": 3,
      "metadata": {
        "id": "AkLxUrePaVOO",
        "outputId": "c891c78f-278a-4286-b165-8298e52725a7",
        "colab": {
          "base_uri": "https://localhost:8080/"
        }
      },
      "outputs": [
        {
          "output_type": "execute_result",
          "data": {
            "text/plain": [
              "False"
            ]
          },
          "metadata": {},
          "execution_count": 3
        }
      ],
      "source": [
        "s = '3.14159'\n",
        "fval = float(s)\n",
        "type(fval)\n",
        "int(fval)\n",
        "bool(fval)\n",
        "bool(0)"
      ]
    },
    {
      "cell_type": "markdown",
      "metadata": {
        "id": "yxjnPUJCaVOO"
      },
      "source": [
        "#### None"
      ]
    },
    {
      "cell_type": "code",
      "execution_count": null,
      "metadata": {
        "id": "qTOr28uuaVOO"
      },
      "outputs": [],
      "source": [
        "a = None\n",
        "a is None\n",
        "b = 5\n",
        "b is not None"
      ]
    },
    {
      "cell_type": "markdown",
      "metadata": {
        "id": "-8v4CwD9aVOO"
      },
      "source": [
        "def add_and_maybe_multiply(a, b, c=None):\n",
        "    result = a + b\n",
        "\n",
        "    if c is not None:\n",
        "        result = result * c\n",
        "\n",
        "    return result"
      ]
    },
    {
      "cell_type": "code",
      "execution_count": null,
      "metadata": {
        "id": "PJ5QG2QFaVOO"
      },
      "outputs": [],
      "source": [
        "type(None)"
      ]
    },
    {
      "cell_type": "markdown",
      "metadata": {
        "id": "YU4t_f_XaVOO"
      },
      "source": [
        "#### Dates and times"
      ]
    },
    {
      "cell_type": "code",
      "execution_count": 2,
      "metadata": {
        "id": "iO2KibegaVOO",
        "outputId": "069f3d03-7729-4cde-bc60-db1868450a56",
        "colab": {
          "base_uri": "https://localhost:8080/"
        }
      },
      "outputs": [
        {
          "output_type": "execute_result",
          "data": {
            "text/plain": [
              "30"
            ]
          },
          "metadata": {},
          "execution_count": 2
        }
      ],
      "source": [
        "from datetime import datetime, date, time\n",
        "dt = datetime(2011, 10, 29, 20, 30, 21)\n",
        "dt.day\n",
        "dt.minute"
      ]
    },
    {
      "cell_type": "code",
      "execution_count": null,
      "metadata": {
        "id": "JkAlYbrzaVOO"
      },
      "outputs": [],
      "source": [
        "dt.date()\n",
        "dt.time()"
      ]
    },
    {
      "cell_type": "code",
      "execution_count": null,
      "metadata": {
        "id": "jRPyP2g7aVOO"
      },
      "outputs": [],
      "source": [
        "dt.strftime('%m/%d/%Y %H:%M')"
      ]
    },
    {
      "cell_type": "code",
      "execution_count": null,
      "metadata": {
        "id": "bDTCwNR_aVOO"
      },
      "outputs": [],
      "source": [
        "datetime.strptime('20091031', '%Y%m%d')"
      ]
    },
    {
      "cell_type": "code",
      "execution_count": null,
      "metadata": {
        "id": "W9QsMn5_aVOO"
      },
      "outputs": [],
      "source": [
        "dt.replace(minute=0, second=0)"
      ]
    },
    {
      "cell_type": "code",
      "execution_count": null,
      "metadata": {
        "id": "rdkOovr1aVOO"
      },
      "outputs": [],
      "source": [
        "dt2 = datetime(2011, 11, 15, 22, 30)\n",
        "delta = dt2 - dt\n",
        "delta\n",
        "type(delta)"
      ]
    },
    {
      "cell_type": "code",
      "execution_count": null,
      "metadata": {
        "id": "D7l4-dCxaVOO"
      },
      "outputs": [],
      "source": [
        "dt\n",
        "dt + delta"
      ]
    },
    {
      "cell_type": "markdown",
      "metadata": {
        "id": "WHOfHa5JaVOO"
      },
      "source": [
        "### Control Flow"
      ]
    },
    {
      "cell_type": "markdown",
      "metadata": {
        "id": "OxiDtLnWaVOO"
      },
      "source": [
        "#### if, elif, and else"
      ]
    },
    {
      "cell_type": "markdown",
      "metadata": {
        "id": "8xrA6NksaVOO"
      },
      "source": [
        "if x < 0:\n",
        "    print('It's negative')"
      ]
    },
    {
      "cell_type": "markdown",
      "metadata": {
        "id": "9aRhUebJaVOP"
      },
      "source": [
        "if x < 0:\n",
        "    print('It's negative')\n",
        "elif x == 0:\n",
        "    print('Equal to zero')\n",
        "elif 0 < x < 5:\n",
        "    print('Positive but smaller than 5')\n",
        "else:\n",
        "    print('Positive and larger than or equal to 5')"
      ]
    },
    {
      "cell_type": "code",
      "execution_count": null,
      "metadata": {
        "id": "QOfMJxAdaVOP"
      },
      "outputs": [],
      "source": [
        "a = 5; b = 7\n",
        "c = 8; d = 4\n",
        "if a < b or c > d:\n",
        "    print('Made it')"
      ]
    },
    {
      "cell_type": "code",
      "execution_count": null,
      "metadata": {
        "id": "1vlqQ4YVaVOP"
      },
      "outputs": [],
      "source": [
        "4 > 3 > 2 > 1"
      ]
    },
    {
      "cell_type": "markdown",
      "metadata": {
        "id": "2zaM4IOnaVOP"
      },
      "source": [
        "#### for loops"
      ]
    },
    {
      "cell_type": "markdown",
      "metadata": {
        "id": "3AdBJRJ7aVOP"
      },
      "source": [
        "for value in collection:\n",
        "    # do something with value"
      ]
    },
    {
      "cell_type": "markdown",
      "metadata": {
        "id": "7QGMTsh8aVOP"
      },
      "source": [
        "sequence = [1, 2, None, 4, None, 5]\n",
        "total = 0\n",
        "for value in sequence:\n",
        "    if value is None:\n",
        "        continue\n",
        "    total += value"
      ]
    },
    {
      "cell_type": "markdown",
      "metadata": {
        "id": "Vx4Sda2uaVOP"
      },
      "source": [
        "sequence = [1, 2, 0, 4, 6, 5, 2, 1]\n",
        "total_until_5 = 0\n",
        "for value in sequence:\n",
        "    if value == 5:\n",
        "        break\n",
        "    total_until_5 += value"
      ]
    },
    {
      "cell_type": "code",
      "execution_count": null,
      "metadata": {
        "id": "YSmvlN-waVOP"
      },
      "outputs": [],
      "source": [
        "for i in range(4):\n",
        "    for j in range(4):\n",
        "        if j > i:\n",
        "            break\n",
        "        print((i, j))"
      ]
    },
    {
      "cell_type": "markdown",
      "metadata": {
        "id": "jxWGaM8GaVOP"
      },
      "source": [
        "for a, b, c in iterator:\n",
        "    # do something"
      ]
    },
    {
      "cell_type": "markdown",
      "metadata": {
        "id": "DF2g-57uaVOP"
      },
      "source": [
        "#### while loops"
      ]
    },
    {
      "cell_type": "markdown",
      "metadata": {
        "id": "6RidKfDoaVOP"
      },
      "source": [
        "x = 256\n",
        "total = 0\n",
        "while x > 0:\n",
        "    if total > 500:\n",
        "        break\n",
        "    total += x\n",
        "    x = x // 2"
      ]
    },
    {
      "cell_type": "markdown",
      "metadata": {
        "id": "vu759_1paVOP"
      },
      "source": [
        "#### pass"
      ]
    },
    {
      "cell_type": "markdown",
      "metadata": {
        "id": "uY2xjA-waVOP"
      },
      "source": [
        "if x < 0:\n",
        "    print('negative!')\n",
        "elif x == 0:\n",
        "    # TODO: put something smart here\n",
        "    pass\n",
        "else:\n",
        "    print('positive!')"
      ]
    },
    {
      "cell_type": "markdown",
      "metadata": {
        "id": "5XaFNgePaVOP"
      },
      "source": [
        "#### range"
      ]
    },
    {
      "cell_type": "code",
      "execution_count": null,
      "metadata": {
        "id": "ox0DvBXjaVOP"
      },
      "outputs": [],
      "source": [
        "range(10)\n",
        "list(range(10))"
      ]
    },
    {
      "cell_type": "code",
      "execution_count": null,
      "metadata": {
        "id": "SoKb62NkaVOP"
      },
      "outputs": [],
      "source": [
        "list(range(0, 20, 2))\n",
        "list(range(5, 0, -1))"
      ]
    },
    {
      "cell_type": "markdown",
      "metadata": {
        "id": "TDahvW5naVOP"
      },
      "source": [
        "seq = [1, 2, 3, 4]\n",
        "for i in range(len(seq)):\n",
        "    val = seq[i]"
      ]
    },
    {
      "cell_type": "markdown",
      "metadata": {
        "id": "FyXlteozaVOP"
      },
      "source": [
        "sum = 0\n",
        "for i in range(100000):\n",
        "    # % is the modulo operator\n",
        "    if i % 3 == 0 or i % 5 == 0:\n",
        "        sum += i"
      ]
    },
    {
      "cell_type": "markdown",
      "metadata": {
        "id": "EwnLWW2AaVOP"
      },
      "source": [
        "#### Ternary expressions"
      ]
    },
    {
      "cell_type": "markdown",
      "metadata": {
        "id": "8iZBDuzgaVOQ"
      },
      "source": [
        "value ="
      ]
    },
    {
      "cell_type": "markdown",
      "metadata": {
        "id": "fS46s85_aVOQ"
      },
      "source": [
        "if"
      ]
    },
    {
      "cell_type": "code",
      "execution_count": null,
      "metadata": {
        "id": "rNJfRQpwaVOQ"
      },
      "outputs": [],
      "source": [
        "x = 5\n",
        "'Non-negative' if x >= 0 else 'Negative'"
      ]
    }
  ],
  "metadata": {
    "kernelspec": {
      "display_name": "Python 3 (ipykernel)",
      "language": "python",
      "name": "python3"
    },
    "language_info": {
      "codemirror_mode": {
        "name": "ipython",
        "version": 3
      },
      "file_extension": ".py",
      "mimetype": "text/x-python",
      "name": "python",
      "nbconvert_exporter": "python",
      "pygments_lexer": "ipython3",
      "version": "3.9.16"
    },
    "colab": {
      "provenance": [],
      "include_colab_link": true
    }
  },
  "nbformat": 4,
  "nbformat_minor": 0
}