{
  "nbformat": 4,
  "nbformat_minor": 0,
  "metadata": {
    "colab": {
      "provenance": [],
      "authorship_tag": "ABX9TyOhNA4Le/UhJ+rtMnMN0Z3W",
      "include_colab_link": true
    },
    "kernelspec": {
      "name": "python3",
      "display_name": "Python 3"
    },
    "language_info": {
      "name": "python"
    }
  },
  "cells": [
    {
      "cell_type": "markdown",
      "metadata": {
        "id": "view-in-github",
        "colab_type": "text"
      },
      "source": [
        "<a href=\"https://colab.research.google.com/github/UnaSun2025/MSSP6070/blob/main/Copy_of_Participation_Activity_Week_2.ipynb\" target=\"_parent\"><img src=\"https://colab.research.google.com/assets/colab-badge.svg\" alt=\"Open In Colab\"/></a>"
      ]
    },
    {
      "cell_type": "code",
      "execution_count": null,
      "metadata": {
        "id": "bSDjhbLxG06U"
      },
      "outputs": [],
      "source": [
        "spam = [2,4,6,8,10]\n",
        "spam[2] = 'hello' # index from 0, list like 0,1,2"
      ]
    },
    {
      "cell_type": "code",
      "source": [
        "letters = ['a','b','c','d']\n",
        "calculate1 = letters[int(int('3'*2)//11)]\n",
        "print(letters[int(int('3'*2)//11)]) == calculate1\n",
        "calculate2 = letters[-1]\n",
        "print(letters[-1]) == calculate2\n",
        "calculate3 = letters[:2]\n",
        "print(letters[:2]) == calculate3"
      ],
      "metadata": {
        "colab": {
          "base_uri": "https://localhost:8080/"
        },
        "id": "C8ZOz_WK_OrB",
        "outputId": "bdce6a9a-0473-446a-bbbd-2a3860dfadcc"
      },
      "execution_count": null,
      "outputs": [
        {
          "output_type": "stream",
          "name": "stdout",
          "text": [
            "d\n",
            "d\n",
            "['a', 'b']\n"
          ]
        },
        {
          "output_type": "execute_result",
          "data": {
            "text/plain": [
              "False"
            ]
          },
          "metadata": {},
          "execution_count": 9
        }
      ]
    },
    {
      "cell_type": "code",
      "source": [
        "my_list = [1,2,3,4,5]\n",
        "list_to_tuple = tuple(my_list)\n",
        "print(f\"Original list: {my_list}\")\n",
        "print(f\"Converted tuple: {list_to_tuple}\")\n",
        "\n",
        "my_tuple = (1,2,3,4,5)\n",
        "tuple_to_list = list(my_tuple)\n",
        "print(f\"Original tuple: {my_tuple}\")\n",
        "print(f\"Converted tuple: {tuple_to_list}\")"
      ],
      "metadata": {
        "colab": {
          "base_uri": "https://localhost:8080/"
        },
        "id": "vlDQLhPDApmN",
        "outputId": "da8e6270-f22c-4100-8270-dc9aebd34e1a"
      },
      "execution_count": null,
      "outputs": [
        {
          "output_type": "stream",
          "name": "stdout",
          "text": [
            "Original list: [1, 2, 3, 4, 5]\n",
            "Converted tuple: (1, 2, 3, 4, 5)\n",
            "Original tuple: (1, 2, 3, 4, 5)\n",
            "Converted tuple: [1, 2, 3, 4, 5]\n"
          ]
        }
      ]
    },
    {
      "cell_type": "code",
      "source": [
        "spam = ['apples','bananas','tofu','cats']\n",
        "def list_to_string(spam):\n",
        "  if not spam:\n",
        "    return \"\"\n",
        "  if len(spam) == 1:\n",
        "    return spam[0]\n",
        "  return f\"{', '.join(str(item) for item in spam[:-1])}, and {spam[-1]}\"\n",
        "result = list_to_string(spam)\n",
        "print(result)"
      ],
      "metadata": {
        "colab": {
          "base_uri": "https://localhost:8080/"
        },
        "id": "FxvXDmDgEE-L",
        "outputId": "498055d6-fda8-45b8-8fb1-40f8246a9d3a"
      },
      "execution_count": null,
      "outputs": [
        {
          "output_type": "stream",
          "name": "stdout",
          "text": [
            "apples, bananas, tofu, and cats\n"
          ]
        }
      ]
    }
  ]
}