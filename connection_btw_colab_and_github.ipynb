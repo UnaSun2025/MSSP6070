{
  "nbformat": 4,
  "nbformat_minor": 0,
  "metadata": {
    "colab": {
      "provenance": [],
      "mount_file_id": "1tudM3jtpK3ZlMovyeLFRlGimeIn1cLMI",
      "authorship_tag": "ABX9TyPxL36RRGr6PEeHRfnQ8mPJ",
      "include_colab_link": true
    },
    "kernelspec": {
      "name": "python3",
      "display_name": "Python 3"
    },
    "language_info": {
      "name": "python"
    }
  },
  "cells": [
    {
      "cell_type": "markdown",
      "metadata": {
        "id": "view-in-github",
        "colab_type": "text"
      },
      "source": [
        "<a href=\"https://colab.research.google.com/github/UnaSun2025/MSSP6070/blob/main/connection_btw_colab_and_github.ipynb\" target=\"_parent\"><img src=\"https://colab.research.google.com/assets/colab-badge.svg\" alt=\"Open In Colab\"/></a>"
      ]
    },
    {
      "cell_type": "code",
      "execution_count": null,
      "metadata": {
        "colab": {
          "base_uri": "https://localhost:8080/"
        },
        "id": "f9CWdefXOAfL",
        "outputId": "1adeedc1-f1ed-481a-ef3d-cb8ba7ef47e6"
      },
      "outputs": [
        {
          "output_type": "stream",
          "name": "stdout",
          "text": [
            "Cloning into 'MSSP6070'...\n",
            "remote: Enumerating objects: 13, done.\u001b[K\n",
            "remote: Counting objects: 100% (13/13), done.\u001b[K\n",
            "remote: Compressing objects: 100% (6/6), done.\u001b[K\n",
            "remote: Total 13 (delta 1), reused 7 (delta 0), pack-reused 0 (from 0)\u001b[K\n",
            "Receiving objects: 100% (13/13), 6.69 KiB | 6.69 MiB/s, done.\n",
            "Resolving deltas: 100% (1/1), done.\n"
          ]
        }
      ],
      "source": [
        "from google.colab import userdata\n",
        "import os\n",
        "\n",
        "github_token = userdata.get('GitHub_API_Key') #REplace the GitHub API Key name\n",
        "owner = 'unasun2025' # Replace with the GitHub repository owner\n",
        "repository = 'MSSP6070' # Replace with the GitHub repository name\n",
        "\n",
        "clone_url = f'https://{github_token}@github.com/{owner}/{repository}.git'\n",
        "\n",
        "# Clone the repository\n",
        "!git clone {clone_url}"
      ]
    }
  ]
}