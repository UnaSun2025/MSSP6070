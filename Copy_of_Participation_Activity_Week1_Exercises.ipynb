{
  "cells": [
    {
      "cell_type": "markdown",
      "metadata": {
        "id": "view-in-github",
        "colab_type": "text"
      },
      "source": [
        "<a href=\"https://colab.research.google.com/github/UnaSun2025/MSSP6070/blob/main/Copy_of_Participation_Activity_Week1_Exercises.ipynb\" target=\"_parent\"><img src=\"https://colab.research.google.com/assets/colab-badge.svg\" alt=\"Open In Colab\"/></a>"
      ]
    },
    {
      "cell_type": "markdown",
      "metadata": {
        "id": "X8uSgQFgsEEc"
      },
      "source": [
        "# Coding exercises\n",
        "Exercises 1-3 are thought exercises that don't require coding.\n",
        "\n",
        "1. Explore the Jupyter Lab interface and look at some of the shortcuts available. Don't worry about memorizing them now (eventually they will become second nature and save you a lot of time), just get comfortable using notebooks.\n",
        "\n",
        "2. Are all data normally distributed?\n",
        "\n",
        "3. When would it make more sense to use the median instead of the mean for the measure of center?"
      ]
    },
    {
      "cell_type": "markdown",
      "metadata": {
        "id": "AuzrFuyfsEEe"
      },
      "source": [
        "## Exercise 4: Generate the data by running this cell\n",
        "This will give you a list of numbers to work with in the remaining exercises."
      ]
    },
    {
      "cell_type": "code",
      "execution_count": null,
      "metadata": {
        "colab": {
          "base_uri": "https://localhost:8080/"
        },
        "id": "oV9QXIvgsEEe",
        "outputId": "45a81faa-b9bd-4546-a8ae-938baf105333"
      },
      "outputs": [
        {
          "output_type": "stream",
          "name": "stdout",
          "text": [
            "[844000.0, 758000.0, 421000.0, 259000.0, 511000.0, 405000.0, 784000.0, 303000.0, 477000.0, 583000.0, 908000.0, 505000.0, 282000.0, 756000.0, 618000.0, 251000.0, 910000.0, 983000.0, 810000.0, 902000.0, 310000.0, 730000.0, 899000.0, 684000.0, 472000.0, 101000.0, 434000.0, 611000.0, 913000.0, 967000.0, 477000.0, 865000.0, 260000.0, 805000.0, 549000.0, 14000.0, 720000.0, 399000.0, 825000.0, 668000.0, 1000.0, 494000.0, 868000.0, 244000.0, 325000.0, 870000.0, 191000.0, 568000.0, 239000.0, 968000.0, 803000.0, 448000.0, 80000.0, 320000.0, 508000.0, 933000.0, 109000.0, 551000.0, 707000.0, 547000.0, 814000.0, 540000.0, 964000.0, 603000.0, 588000.0, 445000.0, 596000.0, 385000.0, 576000.0, 290000.0, 189000.0, 187000.0, 613000.0, 657000.0, 477000.0, 90000.0, 758000.0, 877000.0, 923000.0, 842000.0, 898000.0, 923000.0, 541000.0, 391000.0, 705000.0, 276000.0, 812000.0, 849000.0, 895000.0, 590000.0, 950000.0, 580000.0, 451000.0, 660000.0, 996000.0, 917000.0, 793000.0, 82000.0, 613000.0, 486000.0]\n"
          ]
        }
      ],
      "source": [
        "import random\n",
        "random.seed(0)\n",
        "salaries = [round(random.random()*1000000, -3) for _ in range(100)]\n",
        "print(list(salaries))"
      ]
    },
    {
      "cell_type": "markdown",
      "metadata": {
        "id": "ttj-U5EDsEEf"
      },
      "source": [
        "## Exercise 5: Calculating statistics and verifying\n",
        "\n",
        "Use the data generated above to calulate in code the following statistics without importing the statistics module. Then use the statistics module to verify your results.  Import the statistics module from https://docs.python.org/3/library/statistics.html\n",
        "\n",
        "### mean"
      ]
    },
    {
      "cell_type": "code",
      "execution_count": null,
      "metadata": {
        "id": "mqFcmoSPsEEf",
        "colab": {
          "base_uri": "https://localhost:8080/"
        },
        "outputId": "1be31e42-483e-42b7-88a5-bac8aed1befb"
      },
      "outputs": [
        {
          "output_type": "stream",
          "name": "stdout",
          "text": [
            "Mean (manual): 585690.0\n",
            "Mean (statistics module): 585690.0\n",
            "Results match: True\n"
          ]
        }
      ],
      "source": [
        "# Calculate the mean without the statistics module\n",
        "mean_manual = sum(salaries) / len(salaries)\n",
        "print(f\"Mean (manual): {mean_manual}\")\n",
        "\n",
        "# Verify with the statistics module\n",
        "import statistics\n",
        "mean_stats = statistics.mean(salaries)\n",
        "print(f\"Mean (statistics module): {mean_stats}\")\n",
        "\n",
        "# Verify that the results are the same\n",
        "print(f\"Results match: {mean_manual == mean_stats}\")"
      ]
    },
    {
      "cell_type": "markdown",
      "metadata": {
        "id": "szp8MgFKsEEf"
      },
      "source": [
        "### median"
      ]
    },
    {
      "cell_type": "code",
      "source": [
        "# Calculate the median without the statistics module\n",
        "salaries_sorted = sorted(salaries)\n",
        "n = len(salaries_sorted)\n",
        "if n % 2 == 0:\n",
        "    # If the number of data points is even, the median is the average of the two middle values\n",
        "    mid_right = n // 2\n",
        "    mid_left = mid_right - 1\n",
        "    median_manual = (salaries_sorted[mid_left] + salaries_sorted[mid_right]) / 2\n",
        "else:\n",
        "    # If the number of data points is odd, the median is the middle value\n",
        "    median_manual = salaries_sorted[n // 2]\n",
        "\n",
        "print(f\"Median (manual): {median_manual}\")\n",
        "\n",
        "# Verify with the statistics module\n",
        "import statistics\n",
        "median_stats = statistics.median(salaries)\n",
        "print(f\"Median (statistics module): {median_stats}\")\n",
        "\n",
        "# Verify that the results are the same\n",
        "print(f\"Results match: {median_manual == median_stats}\")"
      ],
      "metadata": {
        "colab": {
          "base_uri": "https://localhost:8080/"
        },
        "outputId": "6402c76a-1c12-4b5a-9001-9d1c5db70de5",
        "id": "WGD3sBMLIn5U"
      },
      "execution_count": null,
      "outputs": [
        {
          "output_type": "stream",
          "name": "stdout",
          "text": [
            "Median (manual): 589000.0\n",
            "Median (statistics module): 589000.0\n",
            "Results match: True\n"
          ]
        }
      ]
    },
    {
      "cell_type": "markdown",
      "metadata": {
        "id": "711naNwisEEf"
      },
      "source": [
        "### mode"
      ]
    },
    {
      "cell_type": "code",
      "execution_count": null,
      "metadata": {
        "colab": {
          "base_uri": "https://localhost:8080/"
        },
        "outputId": "19d9ac9a-defa-4e25-c1d1-002da084df60",
        "id": "UYlf1OE_JBLG"
      },
      "outputs": [
        {
          "output_type": "stream",
          "name": "stdout",
          "text": [
            "Mode (manual): 477000.0\n",
            "Mode (statistics module): 477000.0\n",
            "Results match: True\n"
          ]
        }
      ],
      "source": [
        "# Calculate the mode without the statistics module\n",
        "from collections import Counter\n",
        "counts = Counter(salaries)\n",
        "# Get the most common element(s) and their count(s)\n",
        "# Counter can return multiple modes if there's a tie\n",
        "mode_manual = counts.most_common(1)[0][0]\n",
        "\n",
        "\n",
        "print(f\"Mode (manual): {mode_manual}\")\n",
        "\n",
        "# Verify with the statistics module\n",
        "import statistics\n",
        "# The statistics.mode() function in older Python versions might raise an error with multiple modes.\n",
        "# statistics.multimode() is preferred for handling multiple modes.\n",
        "try:\n",
        "    mode_stats = statistics.mode(salaries)\n",
        "    print(f\"Mode (statistics module): {mode_stats}\")\n",
        "    print(f\"Results match: {mode_manual == mode_stats}\")\n",
        "except statistics.StatisticsError as e:\n",
        "    print(f\"Could not verify with statistics.mode(): {e}. Using statistics.multimode() instead.\")\n",
        "    mode_stats_multi = statistics.multimode(salaries)\n",
        "    print(f\"Mode (statistics module - multimode): {mode_stats_multi}\")\n",
        "    # For verification, we can check if the manual mode is in the list of multimodes\n",
        "    print(f\"Manual mode is in multimode list: {mode_manual in mode_stats_multi}\")"
      ]
    },
    {
      "cell_type": "markdown",
      "metadata": {
        "id": "Zemivl4xsEEf"
      },
      "source": [
        "### sample variance\n",
        "Remember to use Bessel's correction."
      ]
    },
    {
      "cell_type": "code",
      "execution_count": null,
      "metadata": {
        "colab": {
          "base_uri": "https://localhost:8080/"
        },
        "outputId": "2c08c13e-145b-4345-9e69-71d549bb6d09",
        "id": "y7uX7cS_JRe5"
      },
      "outputs": [
        {
          "output_type": "stream",
          "name": "stdout",
          "text": [
            "Sample Variance (manual): 70664054444.44444\n",
            "Sample Variance (statistics module): 70664054444.44444\n",
            "Results match (approx): True\n"
          ]
        }
      ],
      "source": [
        "# Calculate the sample variance without the statistics module (using Bessel's correction)\n",
        "mean_salaries = sum(salaries) / len(salaries)\n",
        "squared_differences = [(x - mean_salaries) ** 2 for x in salaries]\n",
        "sample_variance_manual = sum(squared_differences) / (len(salaries) - 1)\n",
        "\n",
        "print(f\"Sample Variance (manual): {sample_variance_manual}\")\n",
        "\n",
        "# Verify with the statistics module\n",
        "import statistics\n",
        "sample_variance_stats = statistics.variance(salaries)\n",
        "print(f\"Sample Variance (statistics module): {sample_variance_stats}\")\n",
        "\n",
        "# Verify that the results are approximately the same\n",
        "print(f\"Results match (approx): {abs(sample_variance_manual - sample_variance_stats) < 1e-9}\")"
      ]
    },
    {
      "cell_type": "markdown",
      "metadata": {
        "id": "yC2fQ4XksEEf"
      },
      "source": [
        "### sample standard deviation\n",
        "Remember to use Bessel's correction."
      ]
    },
    {
      "cell_type": "code",
      "execution_count": null,
      "metadata": {
        "colab": {
          "base_uri": "https://localhost:8080/"
        },
        "outputId": "f70037db-84fe-4321-b6b3-8672401cd9ca",
        "id": "CL51LVYOJbmr"
      },
      "outputs": [
        {
          "output_type": "stream",
          "name": "stdout",
          "text": [
            "Sample Standard Deviation (manual): 265827.11382484\n",
            "Sample Standard Deviation (statistics module): 265827.11382484\n",
            "Results match (approx): True\n"
          ]
        }
      ],
      "source": [
        "# Calculate the sample standard deviation without the statistics module (using Bessel's correction)\n",
        "# The sample standard deviation is the square root of the sample variance\n",
        "sample_std_dev_manual = sample_variance_manual**0.5\n",
        "\n",
        "print(f\"Sample Standard Deviation (manual): {sample_std_dev_manual}\")\n",
        "\n",
        "# Verify with the statistics module\n",
        "import statistics\n",
        "sample_std_dev_stats = statistics.stdev(salaries)\n",
        "print(f\"Sample Standard Deviation (statistics module): {sample_std_dev_stats}\")\n",
        "\n",
        "# Verify that the results are approximately the same\n",
        "print(f\"Results match (approx): {abs(sample_std_dev_manual - sample_std_dev_stats) < 1e-9}\")"
      ]
    },
    {
      "cell_type": "markdown",
      "metadata": {
        "id": "VwM1cChesEEg"
      },
      "source": [
        "## Exercise 6: Calculating more statistics\n",
        "### range"
      ]
    },
    {
      "cell_type": "code",
      "execution_count": null,
      "metadata": {
        "colab": {
          "base_uri": "https://localhost:8080/"
        },
        "outputId": "bb2dc182-97e7-4287-dee1-84fd0b48a08f",
        "id": "_DEi0iQcJk_U"
      },
      "outputs": [
        {
          "output_type": "stream",
          "name": "stdout",
          "text": [
            "Range: 995000.0\n"
          ]
        }
      ],
      "source": [
        "# Calculate the range\n",
        "range_manual = max(salaries) - min(salaries)\n",
        "\n",
        "print(f\"Range: {range_manual}\")"
      ]
    },
    {
      "cell_type": "markdown",
      "metadata": {
        "id": "zkzvHVOIsEEg"
      },
      "source": [
        "### coefficient of variation"
      ]
    },
    {
      "cell_type": "code",
      "execution_count": null,
      "metadata": {
        "colab": {
          "base_uri": "https://localhost:8080/"
        },
        "outputId": "58a9ea1c-0f7b-431c-cf91-4662ae8c4912",
        "id": "lCe08HknJtX3"
      },
      "outputs": [
        {
          "output_type": "stream",
          "name": "stdout",
          "text": [
            "Coefficient of Variation: 45.39%\n"
          ]
        }
      ],
      "source": [
        "# Calculate the coefficient of variation\n",
        "# Coefficient of Variation (CV) = (Sample Standard Deviation / Mean) * 100\n",
        "coefficient_of_variation = (sample_std_dev_manual / mean_salaries) * 100\n",
        "\n",
        "print(f\"Coefficient of Variation: {coefficient_of_variation:.2f}%\")"
      ]
    },
    {
      "cell_type": "markdown",
      "metadata": {
        "id": "VJPbtpiCsEEg"
      },
      "source": [
        "### interquartile range"
      ]
    },
    {
      "cell_type": "code",
      "execution_count": null,
      "metadata": {
        "colab": {
          "base_uri": "https://localhost:8080/"
        },
        "outputId": "c69ed736-ab75-4288-d6c5-bba4a036d17a",
        "id": "drw9yxBJJ2Rx"
      },
      "outputs": [
        {
          "output_type": "stream",
          "name": "stdout",
          "text": [
            "Interquartile Range: 413250.0\n"
          ]
        }
      ],
      "source": [
        "# Calculate the interquartile range\n",
        "# First, ensure the list is sorted\n",
        "salaries_sorted = sorted(salaries)\n",
        "n = len(salaries_sorted)\n",
        "\n",
        "# Calculate Q1 (25th percentile) and Q3 (75th percentile)\n",
        "# Using linear interpolation for calculating quartiles\n",
        "q1_index = (n + 1) * 0.25 - 1\n",
        "q3_index = (n + 1) * 0.75 - 1\n",
        "\n",
        "# Handle cases where the index is not an integer\n",
        "if q1_index.is_integer():\n",
        "    q1 = salaries_sorted[int(q1_index)]\n",
        "else:\n",
        "    lower_index = int(q1_index)\n",
        "    upper_index = lower_index + 1\n",
        "    interpolation_factor = q1_index - lower_index\n",
        "    q1 = salaries_sorted[lower_index] + (salaries_sorted[upper_index] - salaries_sorted[lower_index]) * interpolation_factor\n",
        "\n",
        "if q3_index.is_integer():\n",
        "    q3 = salaries_sorted[int(q3_index)]\n",
        "else:\n",
        "    lower_index = int(q3_index)\n",
        "    upper_index = lower_index + 1\n",
        "    interpolation_factor = q3_index - lower_index\n",
        "    q3 = salaries_sorted[lower_index] + (salaries_sorted[upper_index] - salaries_sorted[lower_index]) * interpolation_factor\n",
        "\n",
        "interquartile_range_manual = q3 - q1\n",
        "\n",
        "print(f\"Interquartile Range: {interquartile_range_manual}\")\n",
        "\n",
        "# You can verify with numpy or scipy if needed, but the request is to calculate manually.\n",
        "# import numpy as np\n",
        "# q1_np, q3_np = np.percentile(salaries, [25, 75])\n",
        "# iqr_np = q3_np - q1_np\n",
        "# print(f\"Interquartile Range (numpy): {iqr_np}\")"
      ]
    },
    {
      "cell_type": "markdown",
      "metadata": {
        "id": "LPXyK3XxsEEg"
      },
      "source": [
        "### quartile coefficent of dispersion"
      ]
    },
    {
      "cell_type": "code",
      "execution_count": null,
      "metadata": {
        "colab": {
          "base_uri": "https://localhost:8080/"
        },
        "outputId": "0afa48f9-04e1-4412-f9ad-c162495a1ddd",
        "id": "7o7Yo4GvJ_HX"
      },
      "outputs": [
        {
          "output_type": "stream",
          "name": "stdout",
          "text": [
            "Quartile Coefficient of Dispersion: 0.34\n"
          ]
        }
      ],
      "source": [
        "# Calculate the quartile coefficient of dispersion\n",
        "# Quartile Coefficient of Dispersion = (Q3 - Q1) / (Q3 + Q1)\n",
        "# We need Q1 and Q3 from the previous calculation of the interquartile range.\n",
        "# Assuming q1 and q3 are available from the previous cell's execution.\n",
        "\n",
        "quartile_coefficient_of_dispersion = (q3 - q1) / (q3 + q1)\n",
        "\n",
        "print(f\"Quartile Coefficient of Dispersion: {quartile_coefficient_of_dispersion:.2f}\")"
      ]
    },
    {
      "cell_type": "markdown",
      "metadata": {
        "id": "y2Rm7krlsEEg"
      },
      "source": [
        "## Exercise 7: Scaling data\n",
        "### min-max scaling"
      ]
    },
    {
      "cell_type": "code",
      "execution_count": null,
      "metadata": {
        "colab": {
          "base_uri": "https://localhost:8080/"
        },
        "outputId": "1c9c34d0-54b7-4d65-e15a-c8755cbedb52",
        "id": "rSq-u8ayKEvO"
      },
      "outputs": [
        {
          "output_type": "stream",
          "name": "stdout",
          "text": [
            "Original Salaries (first 10): [844000.0, 758000.0, 421000.0, 259000.0, 511000.0, 405000.0, 784000.0, 303000.0, 477000.0, 583000.0]\n",
            "Min-Max Scaled Salaries (first 10): [0.8472361809045226, 0.7608040201005025, 0.4221105527638191, 0.2592964824120603, 0.5125628140703518, 0.40603015075376886, 0.7869346733668342, 0.3035175879396985, 0.47839195979899496, 0.5849246231155779]\n"
          ]
        }
      ],
      "source": [
        "# Calculate min-max scaling\n",
        "# Min-Max Scaling: X_scaled = (X - X_min) / (X_max - X_min)\n",
        "salaries_min = min(salaries)\n",
        "salaries_max = max(salaries)\n",
        "\n",
        "# Handle the case where min and max are the same to avoid division by zero\n",
        "if salaries_min == salaries_max:\n",
        "    min_max_scaled_salaries = [0.0] * len(salaries) # Or handle as appropriate for your data\n",
        "else:\n",
        "    min_max_scaled_salaries = [(x - salaries_min) / (salaries_max - salaries_min) for x in salaries]\n",
        "\n",
        "print(f\"Original Salaries (first 10): {salaries[:10]}\")\n",
        "print(f\"Min-Max Scaled Salaries (first 10): {min_max_scaled_salaries[:10]}\")"
      ]
    },
    {
      "cell_type": "markdown",
      "metadata": {
        "id": "cWtd-fIMsEEg"
      },
      "source": [
        "### standardizing"
      ]
    },
    {
      "cell_type": "code",
      "execution_count": null,
      "metadata": {
        "colab": {
          "base_uri": "https://localhost:8080/"
        },
        "outputId": "2ed0ab27-0c48-4a8e-d105-e7ade21b0ea4",
        "id": "YncNDaMXKLvs"
      },
      "outputs": [
        {
          "output_type": "stream",
          "name": "stdout",
          "text": [
            "Original Salaries (first 10): [844000.0, 758000.0, 421000.0, 259000.0, 511000.0, 405000.0, 784000.0, 303000.0, 477000.0, 583000.0]\n",
            "Standardized Salaries (first 10): [0.9717217942267801, 0.6482032533127501, -0.6195380058503674, -1.228956652688424, -0.28097209094033604, -0.6797275018343729, 0.7460111842867592, -1.0634355387324086, -0.40887476990634786, -0.010119359012310937]\n"
          ]
        }
      ],
      "source": [
        "# Calculate standardization (Z-score normalization)\n",
        "# Standardization: X_scaled = (X - Mean) / Standard Deviation\n",
        "# We need the mean and sample standard deviation calculated previously\n",
        "# Assuming mean_salaries and sample_std_dev_manual are available from previous cells\n",
        "\n",
        "# Handle the case where standard deviation is zero to avoid division by zero\n",
        "if sample_std_dev_manual == 0:\n",
        "    standardized_salaries = [0.0] * len(salaries) # Or handle as appropriate\n",
        "else:\n",
        "    standardized_salaries = [(x - mean_salaries) / sample_std_dev_manual for x in salaries]\n",
        "\n",
        "print(f\"Original Salaries (first 10): {salaries[:10]}\")\n",
        "print(f\"Standardized Salaries (first 10): {standardized_salaries[:10]}\")"
      ]
    },
    {
      "cell_type": "markdown",
      "metadata": {
        "id": "gFfh1zPxsEEg"
      },
      "source": [
        "## Exercise 8: Calculating covariance and correlation\n",
        "### covariance"
      ]
    },
    {
      "cell_type": "code",
      "execution_count": null,
      "metadata": {
        "id": "I9Yd0Lk1sEEg",
        "colab": {
          "base_uri": "https://localhost:8080/"
        },
        "outputId": "c52cb8af-555c-43a5-d09f-d5a679a7f782"
      },
      "outputs": [
        {
          "output_type": "stream",
          "name": "stdout",
          "text": [
            "Expenses (first 10): [67200.0, 423700.0, 381900.0, 127500.0, 247700.0, 224700.0, 325800.0, 394400.0, 46900.0, 14200.0]\n",
            "Covariance between salaries and expenses; 2509084191.9191923\n"
          ]
        }
      ],
      "source": [
        "import random\n",
        "import numpy as np\n",
        "\n",
        "#Generate a second list of numbers fro covariance calculation\n",
        "random.seed(1) #Use a different seed for a different set of random numbers\n",
        "expenses = [round(random.random()*500000, -2) for _ in range(100)]\n",
        "print(\"Expenses (first 10):\", expenses[:10])\n",
        "\n",
        "# Calculate the covariance between salaries and expenses\n",
        "# Using numpy's cov function which calculates the covariance matrix\n",
        "covariance_matrix = np.cov(salaries, expenses)\n",
        "\n",
        "# The covariance between salaries and expenses is the off-diagonal element\n",
        "covariance_se = covariance_matrix[0,1]\n",
        "\n",
        "print(f\"Covariance between salaries and expenses; {covariance_se}\")"
      ]
    },
    {
      "cell_type": "markdown",
      "metadata": {
        "id": "1_cl1mBMsEEg"
      },
      "source": [
        "### Pearson correlation coefficient ($\\rho$)"
      ]
    },
    {
      "cell_type": "code",
      "execution_count": null,
      "metadata": {
        "id": "3oelCngAsEEg",
        "colab": {
          "base_uri": "https://localhost:8080/"
        },
        "outputId": "9457435e-d63f-4d99-8ec4-b4818b86edd1"
      },
      "outputs": [
        {
          "output_type": "stream",
          "name": "stdout",
          "text": [
            "Pearson correlation coefficient (ρ): 0.0660746352007148\n"
          ]
        }
      ],
      "source": [
        "import numpy as np\n",
        "\n",
        "# Calculate the Pearson correlation coefficient\n",
        "# Using numpy's corrcoef function which calculates the correlation matrix\n",
        "correlation_matrix = np.corrcoef(salaries, expenses)\n",
        "\n",
        "# The Pearson correlation coefficient between salaries and expenses is the off-diagonal element\n",
        "pearson_correlation_coefficient = correlation_matrix[0, 1]\n",
        "\n",
        "print(f\"Pearson correlation coefficient (ρ): {pearson_correlation_coefficient}\")"
      ]
    }
  ],
  "metadata": {
    "kernelspec": {
      "display_name": "Python 3 (ipykernel)",
      "language": "python",
      "name": "python3"
    },
    "language_info": {
      "codemirror_mode": {
        "name": "ipython",
        "version": 3
      },
      "file_extension": ".py",
      "mimetype": "text/x-python",
      "name": "python",
      "nbconvert_exporter": "python",
      "pygments_lexer": "ipython3",
      "version": "3.9.16"
    },
    "colab": {
      "provenance": [],
      "include_colab_link": true
    }
  },
  "nbformat": 4,
  "nbformat_minor": 0
}