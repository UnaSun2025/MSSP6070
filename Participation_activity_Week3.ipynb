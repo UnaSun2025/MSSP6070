{
  "nbformat": 4,
  "nbformat_minor": 0,
  "metadata": {
    "colab": {
      "provenance": [],
      "authorship_tag": "ABX9TyPM46rSndzojqQxBIq34SZ/",
      "include_colab_link": true
    },
    "kernelspec": {
      "name": "python3",
      "display_name": "Python 3"
    },
    "language_info": {
      "name": "python"
    }
  },
  "cells": [
    {
      "cell_type": "markdown",
      "metadata": {
        "id": "view-in-github",
        "colab_type": "text"
      },
      "source": [
        "<a href=\"https://colab.research.google.com/github/UnaSun2025/MSSP6070/blob/main/Participation_activity_Week3.ipynb\" target=\"_parent\"><img src=\"https://colab.research.google.com/assets/colab-badge.svg\" alt=\"Open In Colab\"/></a>"
      ]
    },
    {
      "cell_type": "markdown",
      "source": [
        "a. When does the code in a function execute: when the function is defined or called?\n",
        "\n",
        "The code in a function executes when the function is called, not when it's defined."
      ],
      "metadata": {
        "id": "GcJt5mBuBPTc"
      }
    },
    {
      "cell_type": "markdown",
      "source": [
        "b.How many global scopes are there in a Python program? How many local scopes?\n",
        "\n",
        "One global scope for one program.\n",
        "Local scope is created everytime a function is called, so each function call creates its own local scope."
      ],
      "metadata": {
        "id": "ajKpQQakBS2P"
      }
    },
    {
      "cell_type": "markdown",
      "source": [
        "c. What happens to variables in a local scope when the function call returns?\n",
        "\n",
        "Variables are destroyed and not exist."
      ],
      "metadata": {
        "id": "qRMefwJwBX-I"
      }
    },
    {
      "cell_type": "markdown",
      "source": [
        "d. How can you prevent a program from crashing when it gets an error?\n",
        "\n",
        "Using exception handling."
      ],
      "metadata": {
        "id": "lOIxbLg9Bafo"
      }
    },
    {
      "cell_type": "code",
      "source": [
        "def collatz(number):\n",
        "  if number % 2 == 0:\n",
        "    result = number // 2\n",
        "    print(result)\n",
        "    return(result)\n",
        "  else:\n",
        "    result = 3 * number + 1\n",
        "    print(result)\n",
        "    return(result)\n",
        "  print(result, sep='', end='')\n",
        "  return result\n",
        "try:\n",
        "  n = int(input(\"Enter a number: \"))\n",
        "  while n != 1:\n",
        "    n = collatz(n)\n",
        "except ValueError:\n",
        "  print(\"please enter a valid integer\")\n"
      ],
      "metadata": {
        "colab": {
          "base_uri": "https://localhost:8080/"
        },
        "id": "6-75RBygBQD3",
        "outputId": "ace0f560-0332-4613-f1c9-ff95cf7e7776"
      },
      "execution_count": null,
      "outputs": [
        {
          "output_type": "stream",
          "name": "stdout",
          "text": [
            "Enter a number: 3\n",
            "10\n",
            "5\n",
            "16\n",
            "8\n",
            "4\n",
            "2\n",
            "1\n"
          ]
        }
      ]
    }
  ]
}